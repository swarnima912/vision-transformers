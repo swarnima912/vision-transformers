{
  "nbformat": 4,
  "nbformat_minor": 0,
  "metadata": {
    "colab": {
      "provenance": []
    },
    "kernelspec": {
      "name": "python3",
      "display_name": "Python 3"
    },
    "language_info": {
      "name": "python"
    }
  },
  "cells": [
    {
      "cell_type": "code",
      "execution_count": 1,
      "metadata": {
        "colab": {
          "base_uri": "https://localhost:8080/"
        },
        "id": "FbWMFkPq_9SR",
        "outputId": "848a1828-2c5f-4502-97dd-f16d8747ee5a"
      },
      "outputs": [
        {
          "output_type": "stream",
          "name": "stdout",
          "text": [
            "Downloading http://yann.lecun.com/exdb/mnist/train-images-idx3-ubyte.gz\n",
            "Downloading http://yann.lecun.com/exdb/mnist/train-images-idx3-ubyte.gz to ./data/MNIST/raw/train-images-idx3-ubyte.gz\n"
          ]
        },
        {
          "output_type": "stream",
          "name": "stderr",
          "text": [
            "100%|██████████| 9912422/9912422 [00:00<00:00, 215270961.02it/s]"
          ]
        },
        {
          "output_type": "stream",
          "name": "stdout",
          "text": [
            "Extracting ./data/MNIST/raw/train-images-idx3-ubyte.gz to ./data/MNIST/raw\n"
          ]
        },
        {
          "output_type": "stream",
          "name": "stderr",
          "text": [
            "\n"
          ]
        },
        {
          "output_type": "stream",
          "name": "stdout",
          "text": [
            "\n",
            "Downloading http://yann.lecun.com/exdb/mnist/train-labels-idx1-ubyte.gz\n",
            "Downloading http://yann.lecun.com/exdb/mnist/train-labels-idx1-ubyte.gz to ./data/MNIST/raw/train-labels-idx1-ubyte.gz\n"
          ]
        },
        {
          "output_type": "stream",
          "name": "stderr",
          "text": [
            "100%|██████████| 28881/28881 [00:00<00:00, 85608264.19it/s]\n"
          ]
        },
        {
          "output_type": "stream",
          "name": "stdout",
          "text": [
            "Extracting ./data/MNIST/raw/train-labels-idx1-ubyte.gz to ./data/MNIST/raw\n",
            "\n",
            "Downloading http://yann.lecun.com/exdb/mnist/t10k-images-idx3-ubyte.gz\n",
            "Downloading http://yann.lecun.com/exdb/mnist/t10k-images-idx3-ubyte.gz to ./data/MNIST/raw/t10k-images-idx3-ubyte.gz\n"
          ]
        },
        {
          "output_type": "stream",
          "name": "stderr",
          "text": [
            "100%|██████████| 1648877/1648877 [00:00<00:00, 116258869.95it/s]"
          ]
        },
        {
          "output_type": "stream",
          "name": "stdout",
          "text": [
            "Extracting ./data/MNIST/raw/t10k-images-idx3-ubyte.gz to ./data/MNIST/raw\n"
          ]
        },
        {
          "output_type": "stream",
          "name": "stderr",
          "text": [
            "\n"
          ]
        },
        {
          "output_type": "stream",
          "name": "stdout",
          "text": [
            "\n",
            "Downloading http://yann.lecun.com/exdb/mnist/t10k-labels-idx1-ubyte.gz\n",
            "Downloading http://yann.lecun.com/exdb/mnist/t10k-labels-idx1-ubyte.gz to ./data/MNIST/raw/t10k-labels-idx1-ubyte.gz\n"
          ]
        },
        {
          "output_type": "stream",
          "name": "stderr",
          "text": [
            "100%|██████████| 4542/4542 [00:00<00:00, 4160412.48it/s]\n"
          ]
        },
        {
          "output_type": "stream",
          "name": "stdout",
          "text": [
            "Extracting ./data/MNIST/raw/t10k-labels-idx1-ubyte.gz to ./data/MNIST/raw\n",
            "\n",
            "Epoch [1/10], Step [100/938], Loss: 0.2011\n",
            "Epoch [1/10], Step [200/938], Loss: 0.2580\n",
            "Epoch [1/10], Step [300/938], Loss: 0.0832\n",
            "Epoch [1/10], Step [400/938], Loss: 0.1164\n",
            "Epoch [1/10], Step [500/938], Loss: 0.0263\n",
            "Epoch [1/10], Step [600/938], Loss: 0.0748\n",
            "Epoch [1/10], Step [700/938], Loss: 0.0068\n",
            "Epoch [1/10], Step [800/938], Loss: 0.0596\n",
            "Epoch [1/10], Step [900/938], Loss: 0.0570\n",
            "Epoch [2/10], Step [100/938], Loss: 0.0103\n",
            "Epoch [2/10], Step [200/938], Loss: 0.0714\n",
            "Epoch [2/10], Step [300/938], Loss: 0.0036\n",
            "Epoch [2/10], Step [400/938], Loss: 0.0722\n",
            "Epoch [2/10], Step [500/938], Loss: 0.0697\n",
            "Epoch [2/10], Step [600/938], Loss: 0.0606\n",
            "Epoch [2/10], Step [700/938], Loss: 0.0730\n",
            "Epoch [2/10], Step [800/938], Loss: 0.0163\n",
            "Epoch [2/10], Step [900/938], Loss: 0.0025\n",
            "Epoch [3/10], Step [100/938], Loss: 0.0038\n",
            "Epoch [3/10], Step [200/938], Loss: 0.0008\n",
            "Epoch [3/10], Step [300/938], Loss: 0.0067\n",
            "Epoch [3/10], Step [400/938], Loss: 0.0036\n",
            "Epoch [3/10], Step [500/938], Loss: 0.0288\n",
            "Epoch [3/10], Step [600/938], Loss: 0.0022\n",
            "Epoch [3/10], Step [700/938], Loss: 0.0075\n",
            "Epoch [3/10], Step [800/938], Loss: 0.0073\n",
            "Epoch [3/10], Step [900/938], Loss: 0.0358\n",
            "Epoch [4/10], Step [100/938], Loss: 0.0021\n",
            "Epoch [4/10], Step [200/938], Loss: 0.0042\n",
            "Epoch [4/10], Step [300/938], Loss: 0.0551\n",
            "Epoch [4/10], Step [400/938], Loss: 0.0006\n",
            "Epoch [4/10], Step [500/938], Loss: 0.0258\n",
            "Epoch [4/10], Step [600/938], Loss: 0.0057\n",
            "Epoch [4/10], Step [700/938], Loss: 0.0008\n",
            "Epoch [4/10], Step [800/938], Loss: 0.0289\n",
            "Epoch [4/10], Step [900/938], Loss: 0.0012\n",
            "Epoch [5/10], Step [100/938], Loss: 0.0005\n",
            "Epoch [5/10], Step [200/938], Loss: 0.0042\n",
            "Epoch [5/10], Step [300/938], Loss: 0.0142\n",
            "Epoch [5/10], Step [400/938], Loss: 0.0002\n",
            "Epoch [5/10], Step [500/938], Loss: 0.0487\n",
            "Epoch [5/10], Step [600/938], Loss: 0.0092\n",
            "Epoch [5/10], Step [700/938], Loss: 0.0165\n",
            "Epoch [5/10], Step [800/938], Loss: 0.0014\n",
            "Epoch [5/10], Step [900/938], Loss: 0.0254\n",
            "Epoch [6/10], Step [100/938], Loss: 0.0010\n",
            "Epoch [6/10], Step [200/938], Loss: 0.0267\n",
            "Epoch [6/10], Step [300/938], Loss: 0.0040\n",
            "Epoch [6/10], Step [400/938], Loss: 0.0001\n",
            "Epoch [6/10], Step [500/938], Loss: 0.0002\n",
            "Epoch [6/10], Step [600/938], Loss: 0.0201\n",
            "Epoch [6/10], Step [700/938], Loss: 0.0086\n",
            "Epoch [6/10], Step [800/938], Loss: 0.0118\n",
            "Epoch [6/10], Step [900/938], Loss: 0.0215\n",
            "Epoch [7/10], Step [100/938], Loss: 0.0054\n",
            "Epoch [7/10], Step [200/938], Loss: 0.0001\n",
            "Epoch [7/10], Step [300/938], Loss: 0.0098\n",
            "Epoch [7/10], Step [400/938], Loss: 0.0003\n",
            "Epoch [7/10], Step [500/938], Loss: 0.0005\n",
            "Epoch [7/10], Step [600/938], Loss: 0.0533\n",
            "Epoch [7/10], Step [700/938], Loss: 0.0006\n",
            "Epoch [7/10], Step [800/938], Loss: 0.0272\n",
            "Epoch [7/10], Step [900/938], Loss: 0.0004\n",
            "Epoch [8/10], Step [100/938], Loss: 0.0007\n",
            "Epoch [8/10], Step [200/938], Loss: 0.0018\n",
            "Epoch [8/10], Step [300/938], Loss: 0.0015\n",
            "Epoch [8/10], Step [400/938], Loss: 0.0611\n",
            "Epoch [8/10], Step [500/938], Loss: 0.0117\n",
            "Epoch [8/10], Step [600/938], Loss: 0.0592\n",
            "Epoch [8/10], Step [700/938], Loss: 0.0154\n",
            "Epoch [8/10], Step [800/938], Loss: 0.0009\n",
            "Epoch [8/10], Step [900/938], Loss: 0.0022\n",
            "Epoch [9/10], Step [100/938], Loss: 0.0004\n",
            "Epoch [9/10], Step [200/938], Loss: 0.0001\n",
            "Epoch [9/10], Step [300/938], Loss: 0.0001\n",
            "Epoch [9/10], Step [400/938], Loss: 0.0000\n",
            "Epoch [9/10], Step [500/938], Loss: 0.0002\n",
            "Epoch [9/10], Step [600/938], Loss: 0.0078\n",
            "Epoch [9/10], Step [700/938], Loss: 0.0103\n",
            "Epoch [9/10], Step [800/938], Loss: 0.0009\n",
            "Epoch [9/10], Step [900/938], Loss: 0.0014\n",
            "Epoch [10/10], Step [100/938], Loss: 0.0244\n",
            "Epoch [10/10], Step [200/938], Loss: 0.0001\n",
            "Epoch [10/10], Step [300/938], Loss: 0.0002\n",
            "Epoch [10/10], Step [400/938], Loss: 0.0083\n",
            "Epoch [10/10], Step [500/938], Loss: 0.0068\n",
            "Epoch [10/10], Step [600/938], Loss: 0.0007\n",
            "Epoch [10/10], Step [700/938], Loss: 0.1130\n",
            "Epoch [10/10], Step [800/938], Loss: 0.0227\n",
            "Epoch [10/10], Step [900/938], Loss: 0.0020\n",
            "Accuracy of the network on the 10000 test images: 99.03 %\n"
          ]
        }
      ],
      "source": [
        "import torch\n",
        "import torch.nn as nn\n",
        "import torch.optim as optim\n",
        "from torchvision import datasets, transforms\n",
        "from torch.utils.data import DataLoader\n",
        "\n",
        "class CNN(nn.Module):\n",
        "    def __init__(self):\n",
        "        super(CNN, self).__init__()\n",
        "        self.conv_layer = nn.Sequential(\n",
        "            nn.Conv2d(in_channels=1, out_channels=32, kernel_size=3, padding=1),\n",
        "            nn.ReLU(),\n",
        "            nn.MaxPool2d(kernel_size=2, stride=2),\n",
        "            nn.Conv2d(in_channels=32, out_channels=64, kernel_size=3, padding=1),\n",
        "            nn.ReLU(),\n",
        "            nn.MaxPool2d(kernel_size=2, stride=2)\n",
        "        )\n",
        "        self.fc_layer = nn.Sequential(\n",
        "            nn.Linear(64 * 7 * 7, 128),\n",
        "            nn.ReLU(),\n",
        "            nn.Linear(128, 10)\n",
        "        )\n",
        "\n",
        "    def forward(self, x):\n",
        "        x = self.conv_layer(x)\n",
        "        x = x.view(x.size(0), -1)\n",
        "        x = self.fc_layer(x)\n",
        "        return x\n",
        "\n",
        "transform = transforms.Compose([transforms.ToTensor(),\n",
        "                                transforms.Normalize((0.1307,), (0.3081,))])\n",
        "\n",
        "train_dataset = datasets.MNIST(root='./data', train=True, download=True, transform=transform)\n",
        "test_dataset = datasets.MNIST(root='./data', train=False, download=True, transform=transform)\n",
        "\n",
        "train_loader = DataLoader(dataset=train_dataset, batch_size=64, shuffle=True)\n",
        "test_loader = DataLoader(dataset=test_dataset, batch_size=1000, shuffle=False)\n",
        "\n",
        "model = CNN()\n",
        "criterion = nn.CrossEntropyLoss()\n",
        "optimizer = optim.Adam(model.parameters(), lr=0.001)\n",
        "\n",
        "device = torch.device(\"cuda\" if torch.cuda.is_available() else \"cpu\")\n",
        "model.to(device)\n",
        "\n",
        "for epoch in range(10):\n",
        "    for i, (images, labels) in enumerate(train_loader):\n",
        "        images, labels = images.to(device), labels.to(device)\n",
        "\n",
        "        optimizer.zero_grad()\n",
        "        outputs = model(images)\n",
        "        loss = criterion(outputs, labels)\n",
        "        loss.backward()\n",
        "        optimizer.step()\n",
        "\n",
        "        if (i+1) % 100 == 0:\n",
        "            print(f'Epoch [{epoch+1}/10], Step [{i+1}/{len(train_loader)}], Loss: {loss.item():.4f}')\n",
        "\n",
        "model.eval()\n",
        "with torch.no_grad():\n",
        "    correct = 0\n",
        "    total = 0\n",
        "    for images, labels in test_loader:\n",
        "        images, labels = images.to(device), labels.to(device)\n",
        "        outputs = model(images)\n",
        "        _, predicted = torch.max(outputs.data, 1)\n",
        "        total += labels.size(0)\n",
        "        correct += (predicted == labels).sum().item()\n",
        "\n",
        "print(f'Accuracy of the network on the 10000 test images: {100 * correct / total} %')\n"
      ]
    }
  ]
}